{
 "cells": [
  {
   "cell_type": "code",
   "execution_count": 1,
   "metadata": {
    "collapsed": false
   },
   "outputs": [
    {
     "name": "stderr",
     "output_type": "stream",
     "text": [
      "  0.00s This is LAF-Fabric 4.6.2\n",
      "API reference: http://laf-fabric.readthedocs.org/en/latest/texts/API-reference.html\n",
      "Feature doc: https://shebanq.ancient-data.org/static/docs/featuredoc/texts/welcome.html\n",
      "\n"
     ]
    }
   ],
   "source": [
    "import sys, collections, re\n",
    "\n",
    "from laf.fabric import LafFabric\n",
    "from etcbc.preprocess import prepare\n",
    "fabric = LafFabric()"
   ]
  },
  {
   "cell_type": "code",
   "execution_count": 2,
   "metadata": {
    "collapsed": true
   },
   "outputs": [],
   "source": [
    "source='etcbc'\n",
    "version='4b'"
   ]
  },
  {
   "cell_type": "code",
   "execution_count": 3,
   "metadata": {
    "collapsed": false,
    "scrolled": true
   },
   "outputs": [
    {
     "name": "stderr",
     "output_type": "stream",
     "text": [
      "  0.00s LOADING API: please wait ... \n",
      "  0.01s DETAIL: COMPILING m: UP TO DATE\n",
      "  0.01s USING main  DATA COMPILED AT: 2015-11-02T15-08-56\n",
      "  0.01s DETAIL: COMPILING a: UP TO DATE\n",
      "  0.02s USING annox DATA COMPILED AT: 2016-01-27T19-01-17\n",
      "  0.03s DETAIL: load main: G.node_anchor_min\n",
      "  0.11s DETAIL: load main: G.node_anchor_max\n",
      "  0.19s DETAIL: load main: G.node_sort\n",
      "  0.29s DETAIL: load main: G.node_sort_inv\n",
      "  0.87s DETAIL: load main: G.edges_from\n",
      "  0.96s DETAIL: load main: G.edges_to\n",
      "  1.04s DETAIL: load main: F.etcbc4_db_monads [node] \n",
      "  1.87s DETAIL: load main: F.etcbc4_db_oid [node] \n",
      "  2.53s DETAIL: load main: F.etcbc4_db_otype [node] \n",
      "  3.19s DETAIL: load main: F.etcbc4_ft_g_word [node] \n",
      "  3.44s DETAIL: load main: F.etcbc4_ft_language [node] \n",
      "  3.67s DETAIL: load main: F.etcbc4_ft_lex [node] \n",
      "  3.88s DETAIL: load main: F.etcbc4_ft_lex_utf8 [node] \n",
      "  4.17s DETAIL: load main: F.etcbc4_ft_ls [node] \n",
      "  4.33s DETAIL: load main: F.etcbc4_ft_pdp [node] \n",
      "  4.51s DETAIL: load main: F.etcbc4_ft_sp [node] \n",
      "  4.69s DETAIL: load main: F.etcbc4_ft_vs [node] \n",
      "  4.88s DETAIL: load main: F.etcbc4_lex_gloss [node] \n",
      "  4.88s DETAIL: load main: F.etcbc4_lex_nametype [node] \n",
      "  4.88s DETAIL: load main: F.etcbc4_sft_chapter [node] \n",
      "  4.90s DETAIL: load main: F.etcbc4_sft_label [node] \n",
      "  4.93s DETAIL: load main: F.etcbc4_sft_verse [node] \n",
      "  4.96s DETAIL: load main: F.etcbc4_ft_mother [e] \n",
      "  5.04s DETAIL: load main: C.etcbc4_ft_mother -> \n",
      "  5.22s DETAIL: load main: C.etcbc4_ft_mother <- \n",
      "  5.34s DETAIL: load annox: F.etcbc4_db_monads [node] \n",
      "  5.37s DETAIL: load annox: F.etcbc4_db_oid [node] \n",
      "  5.37s DETAIL: load annox: F.etcbc4_db_otype [node] \n",
      "  5.37s DETAIL: load annox: F.etcbc4_ft_g_word [node] \n",
      "  5.40s DETAIL: load annox: F.etcbc4_ft_language [node] \n",
      "  5.40s DETAIL: load annox: F.etcbc4_ft_lex [node] \n",
      "  5.41s DETAIL: load annox: F.etcbc4_ft_lex_utf8 [node] \n",
      "  5.41s DETAIL: load annox: F.etcbc4_ft_ls [node] \n",
      "  5.41s DETAIL: load annox: F.etcbc4_ft_pdp [node] \n",
      "  5.41s DETAIL: load annox: F.etcbc4_ft_sp [node] \n",
      "  5.41s DETAIL: load annox: F.etcbc4_ft_vs [node] \n",
      "  5.41s DETAIL: load annox: F.etcbc4_lex_gloss [node] \n",
      "  5.64s DETAIL: load annox: F.etcbc4_lex_nametype [node] \n",
      "  5.75s DETAIL: load annox: F.etcbc4_sft_chapter [node] \n",
      "  5.75s DETAIL: load annox: F.etcbc4_sft_label [node] \n",
      "  5.75s DETAIL: load annox: F.etcbc4_sft_verse [node] \n",
      "  5.75s DETAIL: load annox: F.etcbc4_ft_mother [e] \n",
      "  5.75s DETAIL: load annox: C.etcbc4_ft_mother -> \n",
      "  5.75s DETAIL: load annox: C.etcbc4_ft_mother <- \n",
      "  5.75s LOGFILE=C:/Users/u0100999/laf-fabric-output/etcbc4b/workshop/__log__workshop.txt\n",
      "  5.75s INFO: LOADING PREPARED data: please wait ... \n",
      "  5.77s prep prep: G.node_sort\n",
      "  5.83s prep prep: G.node_sort_inv\n",
      "  6.22s prep prep: L.node_up\n",
      "  8.82s prep prep: L.node_down\n",
      "    15s prep prep: V.verses\n",
      "    15s prep prep: V.books_la\n",
      "    15s ETCBC reference: http://laf-fabric.readthedocs.org/en/latest/texts/ETCBC-reference.html\n",
      "    17s INFO: LOADED PREPARED data\n",
      "    17s INFO: DATA LOADED FROM SOURCE etcbc4b AND ANNOX lexicon FOR TASK workshop AT 2016-09-19T11-06-10\n"
     ]
    }
   ],
   "source": [
    "API=fabric.load(source+version, 'lexicon', 'workshop', {\n",
    "    \"xmlids\": {\"node\": False, \"edge\": False},\n",
    "    \"features\": ('''\n",
    "        sp vs label\n",
    "        oid otype monads\n",
    "        lex g_word lex_utf8\n",
    "        sp pdp nametype ls gloss language\n",
    "        chapter verse\n",
    "    ''','mother'),\n",
    "    \"prepare\": prepare,\n",
    "    \"primary\": False,\n",
    "}, verbose='DETAIL')\n",
    "exec(fabric.localnames.format(var='fabric'))"
   ]
  },
  {
   "cell_type": "code",
   "execution_count": 4,
   "metadata": {
    "collapsed": false
   },
   "outputs": [
    {
     "name": "stderr",
     "output_type": "stream",
     "text": [
      "  1.64s Found 14108 cases of בְּ.\n",
      "  1.64s Found 117 cases of חזק in the hiphil.\n",
      "  1.64s Found 54 cases of בְּ and חזק in the hiphil.\n"
     ]
    },
    {
     "name": "stdout",
     "output_type": "stream",
     "text": [
      "[428203, 428448, 432865, 433445, 439598, 446315, 446576, 450893, 450959, 452173, 452566, 452591, 454705, 455026, 456965, 457294, 458276, 460298, 460458, 461475, 463882, 464125, 464226, 465830, 467350, 469002, 470449, 470837, 471532, 471842, 471857, 471870, 472490, 473756, 476324, 478475, 481984, 488411, 496519, 496539, 496952, 496965, 498145, 499503, 499588, 499809, 501269, 506378, 506405, 506475, 507791, 507873, 511887, 513640]\n"
     ]
    }
   ],
   "source": [
    "b_prep = set()\n",
    "hzq_hiph = set()\n",
    "\n",
    "for n in NN():\n",
    "    if F.otype.v(n) == 'word':\n",
    "        if F.lex.v(n) == 'B':\n",
    "            b_prep.add(L.u('clause', n))\n",
    "            #These are all clauses which contain בְּ\n",
    "        if F.lex.v(n) == 'XZQ[' and F.vs.v(n) == 'hif':\n",
    "            hzq_hiph.add(L.u('clause', n))\n",
    "            #These are all clauses which contain חזק in the Hiph'il\n",
    "\n",
    "msg('Found {} cases of בְּ.'.format(len(b_prep)))\n",
    "msg('Found {} cases of חזק in the hiphil.'.format(len(hzq_hiph)))\n",
    "\n",
    "result = sorted(b_prep.intersection(hzq_hiph))\n",
    "#Now we have all clauses occurring in both sets we created\n",
    "msg('Found {} cases of בְּ and חזק in the hiphil.'.format(len(result)))\n",
    "\n",
    "print(result) #These are only the clause node numbers"
   ]
  },
  {
   "cell_type": "code",
   "execution_count": 5,
   "metadata": {
    "collapsed": false
   },
   "outputs": [
    {
     "name": "stdout",
     "output_type": "stream",
     "text": [
      "Genesis 19:16                 \tוַיַּחֲזִ֨קוּ הָאֲנָשִׁ֜ים בְּיָדֹ֣ו וּבְיַד־אִשְׁתֹּ֗ו וּבְיַד֙ שְׁתֵּ֣י בְנֹתָ֔יו בְּחֶמְלַ֥ת יְהוָ֖ה עָלָ֑יו \n",
      "Genesis 21:18                 \tוְהַחֲזִ֥יקִי אֶת־יָדֵ֖ךְ בֹּ֑ו \n",
      "Exodus 4:4                    \tוַיַּ֣חֲזֶק בֹּ֔ו \n",
      "Exodus 9:2                    \tוְעֹודְךָ֖ מַחֲזִ֥יק בָּֽם׃\n",
      "Leviticus 25:35               \tוְהֶֽחֱזַ֣קְתָּ בֹּ֔ו גֵּ֧ר וְתֹושָׁ֛ב \n",
      "Deuteronomy 22:25             \tוְהֶחֱזִֽיק־בָּ֥הּ הָאִ֖ישׁ \n",
      "Deuteronomy 25:11             \tוְהֶחֱזִ֖יקָה בִּמְבֻשָֽׁיו׃\n",
      "Judges 7:8                    \tוּבִשְׁלֹשׁ־מֵאֹ֥ות הָאִ֖ישׁ הֶֽחֱזִ֑יק \n",
      "Judges 7:20                   \tוַיַּחֲזִ֤יקוּ בְיַד־שְׂמאֹולָם֙ בַּלַּפִּדִ֔ים \n",
      "Judges 16:26                  \tהַמַּחֲזִ֣יק בְּיָדֹו֮ \n",
      "Judges 19:25                  \tוַיַּחֲזֵ֤ק הָאִישׁ֙ בְּפִ֣ילַגְשֹׁ֔ו \n",
      "Judges 19:29                  \tוַיַּחֲזֵ֣ק בְּפִֽילַגְשֹׁ֔ו \n",
      "1_Samuel 15:27                \tוַיַּחֲזֵ֥ק בִּכְנַף־מְעִילֹ֖ו \n",
      "1_Samuel 17:35                \tוְהֶחֱזַ֨קְתִּי֙ בִּזְקָנֹ֔ו \n",
      "2_Samuel 1:11                 \tוַיַּחֲזֵ֥ק דָּוִ֛ד בִּבְגָדָ֖יו \n",
      "2_Samuel 3:29                 \tוּמַחֲזִ֥יק בַּפֶּ֛לֶךְ \n",
      "2_Samuel 13:11                \tוַיַּֽחֲזֶק־בָּהּ֙ \n",
      "1_Kings 1:50                  \tוַֽיַּחֲזֵ֖ק בְּקַרְנֹ֥ות הַמִּזְבֵּֽחַ׃\n",
      "1_Kings 2:28                  \tוַֽיַּחֲזֵ֖ק בְּקַרְנֹ֥ות הַמִּזְבֵּֽחַ׃\n",
      "1_Kings 9:9                   \tוַֽיַּחֲזִ֨קוּ֙ בֵּאלֹהִ֣ים אֲחֵרִ֔ים \n",
      "2_Kings 2:12                  \tוַֽיַּחֲזֵק֙ בִּבְגָדָ֔יו \n",
      "2_Kings 4:8                   \tוַתַּחֲזֶק־בֹּ֖ו \n",
      "2_Kings 4:27                  \tוַֽתַּחֲזֵ֖ק בְּרַגְלָ֑יו \n",
      "2_Kings 15:19                 \tלְהַחֲזִ֥יק הַמַּמְלָכָ֖ה בְּיָדֹֽו׃\n",
      "Isaiah 4:1                    \tוְהֶחֱזִיקוּ֩ שֶׁ֨בַע נָשִׁ֜ים בְּאִ֣ישׁ אֶחָ֗ד בַּיֹּ֤ום הַהוּא֙ \n",
      "Isaiah 27:5                   \tאֹ֚ו יַחֲזֵ֣ק בְּמָעוּזִּ֔י \n",
      "Isaiah 42:6                   \tוְאַחְזֵ֣ק בְּיָדֶ֑ךָ \n",
      "Isaiah 45:1                   \tאֲשֶׁר־הֶחֱזַ֣קְתִּי בִֽימִינֹ֗ו \n",
      "Isaiah 51:18                  \tמַחֲזִיק֙ בְּיָדָ֔הּ \n",
      "Isaiah 56:2                   \tיַחֲזִ֣יק בָּ֑הּ \n",
      "Isaiah 56:4                   \tוּמַחֲזִיקִ֖ים בִּבְרִיתִֽי׃\n",
      "Isaiah 56:6                   \tוּמַחֲזִיקִ֖ים בִּבְרִיתִֽי׃\n",
      "Isaiah 64:6                   \tלְהַחֲזִ֣יק בָּ֑ךְ \n",
      "Jeremiah 8:5                  \tהֶחֱזִ֨יקוּ֙ בַּתַּרְמִ֔ית \n",
      "Jeremiah 31:32                \tבְּיֹום֙ הֶחֱזִיקִ֣י בְיָדָ֔ם \n",
      "Jeremiah 50:33                \tוְכָל־שֹֽׁבֵיהֶם֙ הֶחֱזִ֣יקוּ בָ֔ם \n",
      "Ezekiel 27:27                 \tהֹונֵךְ֙ וְעִזְבֹונַ֔יִךְ מַעֲרָבֵ֕ךְ מַלָּחַ֖יִךְ וְחֹבְלָ֑יִךְ מַחֲזִיקֵ֣י בִדְקֵ֣ך וְֽעֹרְבֵ֣י מַ֠עֲרָבֵךְ וְכָל־אַנְשֵׁ֨י מִלְחַמְתֵּ֜ךְ יִפְּלוּ֙ בְּלֵ֣ב יַמִּ֔ים בְּיֹ֖ום מַפַּלְתֵּֽךְ׃\n",
      "Zechariah 8:23                \tוְֽהֶחֱזִ֡יקוּ בִּכְנַף֩ אִ֨ישׁ יְהוּדִ֜י \n",
      "Job 2:3                       \tוְעֹדֶ֨נּוּ֙ מַחֲזִ֣יק בְּתֻמָּתֹ֔ו \n",
      "Job 2:9                       \tעֹדְךָ֖ מַחֲזִ֣יק בְּתֻמָּתֶ֑ךָ \n",
      "Job 8:15                      \tיַחֲזִ֥יק בֹּ֝֗ו \n",
      "Job 8:20                      \tוְלֹֽא־יַ֝חֲזִ֗יק בְּיַד־מְרֵעִֽים׃\n",
      "Job 27:6                      \tבְּצִדְקָתִ֣י הֶ֭חֱזַקְתִּי \n",
      "Proverbs 3:18                 \tלַמַּחֲזִיקִ֣ים בָּ֑הּ \n",
      "Proverbs 4:13                 \tהַחֲזֵ֣ק בַּמּוּסָ֣ר \n",
      "Proverbs 7:13                 \tוְהֶחֱזִ֣יקָה בֹּ֖ו \n",
      "Proverbs 26:17                \tמַחֲזִ֥יק בְּאָזְנֵי־כָ֑לֶב \n",
      "Daniel 11:1                   \tוַאֲנִי֙ בִּשְׁנַ֣ת אַחַ֔ת לְדָרְיָ֖וֶשׁ הַמָּדִ֑י עָמְדִ֛י לְמַחֲזִ֥יק וּלְמָעֹ֖וז לֹֽו׃\n",
      "Daniel 11:6                   \tוְתִנָּתֵ֨ן הִ֤יא וּמְבִיאֶ֨יהָ֙ וְהַיֹּ֣לְדָ֔הּ וּמַחֲזִקָ֖הּ בָּעִתִּֽים׃\n",
      "Daniel 11:21                  \tוְהֶחֱזִ֥יק מַלְכ֖וּת בַּחֲלַקְלַקֹּֽות׃\n",
      "Nehemiah 4:15                 \tוְחֶצְיָ֗ם מַחֲזִיקִים֙ בָּֽרְמָחִ֔ים \n",
      "Nehemiah 5:16                 \tוְ֠גַם בִּמְלֶ֜אכֶת הַחֹומָ֤ה הַזֹּאת֙ הֶחֱזַ֔קְתִּי \n",
      "2_Chronicles 7:22             \tוַֽיַּחֲזִ֨יקוּ֙ בֵּאלֹהִ֣ים אֲחֵרִ֔ים \n",
      "2_Chronicles 28:15            \tוַיַּחֲזִ֣יקוּ בַשִּׁבְיָ֗ה \n"
     ]
    }
   ],
   "source": [
    "#We present the node numbers by something we can recognise: a passage and the text of the clause\n",
    "\n",
    "for r in result:\n",
    "    words = L.d('word', r)\n",
    "    text = T.words(words, fmt='ha').replace('\\n','')\n",
    "    passage = T.passage(r)\n",
    "    print('{:30}\\t{}'.format(passage, text))"
   ]
  },
  {
   "cell_type": "code",
   "execution_count": null,
   "metadata": {
    "collapsed": true
   },
   "outputs": [],
   "source": []
  }
 ],
 "metadata": {
  "anaconda-cloud": {},
  "kernelspec": {
   "display_name": "Python [default]",
   "language": "python",
   "name": "python3"
  },
  "language_info": {
   "codemirror_mode": {
    "name": "ipython",
    "version": 3
   },
   "file_extension": ".py",
   "mimetype": "text/x-python",
   "name": "python",
   "nbconvert_exporter": "python",
   "pygments_lexer": "ipython3",
   "version": "3.5.2"
  }
 },
 "nbformat": 4,
 "nbformat_minor": 1
}
