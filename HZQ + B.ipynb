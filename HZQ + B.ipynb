{
 "cells": [
  {
   "cell_type": "code",
   "execution_count": 1,
   "metadata": {
    "collapsed": false
   },
   "outputs": [
    {
     "name": "stderr",
     "output_type": "stream",
     "text": [
      "  0.00s This is LAF-Fabric 4.6.2\n",
      "API reference: http://laf-fabric.readthedocs.org/en/latest/texts/API-reference.html\n",
      "Feature doc: https://shebanq.ancient-data.org/static/docs/featuredoc/texts/welcome.html\n",
      "\n"
     ]
    }
   ],
   "source": [
    "import sys, collections, re\n",
    "\n",
    "from laf.fabric import LafFabric\n",
    "from etcbc.preprocess import prepare\n",
    "fabric = LafFabric()"
   ]
  },
  {
   "cell_type": "code",
   "execution_count": 2,
   "metadata": {
    "collapsed": true
   },
   "outputs": [],
   "source": [
    "source='etcbc'\n",
    "version='4b'"
   ]
  },
  {
   "cell_type": "code",
   "execution_count": 3,
   "metadata": {
    "collapsed": false,
    "scrolled": true
   },
   "outputs": [
    {
     "name": "stderr",
     "output_type": "stream",
     "text": [
      "  0.00s LOADING API: please wait ... \n",
      "  0.00s DETAIL: COMPILING m: UP TO DATE\n",
      "  0.01s USING main  DATA COMPILED AT: 2015-11-02T15-08-56\n",
      "  0.01s DETAIL: COMPILING a: UP TO DATE\n",
      "  0.01s USING annox DATA COMPILED AT: 2016-01-27T19-01-17\n",
      "  0.03s DETAIL: load main: G.node_anchor_min\n",
      "  0.14s DETAIL: load main: G.node_anchor_max\n",
      "  0.20s DETAIL: load main: G.node_sort\n",
      "  0.31s DETAIL: load main: G.node_sort_inv\n",
      "  0.88s DETAIL: load main: G.edges_from\n",
      "  0.97s DETAIL: load main: G.edges_to\n",
      "  1.07s DETAIL: load main: F.etcbc4_db_monads [node] \n",
      "  1.93s DETAIL: load main: F.etcbc4_db_oid [node] \n",
      "  2.65s DETAIL: load main: F.etcbc4_db_otype [node] \n",
      "  3.30s DETAIL: load main: F.etcbc4_ft_g_word [node] \n",
      "  3.52s DETAIL: load main: F.etcbc4_ft_language [node] \n",
      "  3.69s DETAIL: load main: F.etcbc4_ft_lex [node] \n",
      "  3.91s DETAIL: load main: F.etcbc4_ft_lex_utf8 [node] \n",
      "  4.20s DETAIL: load main: F.etcbc4_ft_ls [node] \n",
      "  4.45s DETAIL: load main: F.etcbc4_ft_pdp [node] \n",
      "  4.64s DETAIL: load main: F.etcbc4_ft_sp [node] \n",
      "  4.85s DETAIL: load main: F.etcbc4_ft_vs [node] \n",
      "  5.03s DETAIL: load main: F.etcbc4_lex_gloss [node] \n",
      "  5.03s DETAIL: load main: F.etcbc4_lex_nametype [node] \n",
      "  5.03s DETAIL: load main: F.etcbc4_sft_chapter [node] \n",
      "  5.03s DETAIL: load main: F.etcbc4_sft_label [node] \n",
      "  5.07s DETAIL: load main: F.etcbc4_sft_verse [node] \n",
      "  5.09s DETAIL: load main: F.etcbc4_ft_mother [e] \n",
      "  5.16s DETAIL: load main: C.etcbc4_ft_mother -> \n",
      "  5.34s DETAIL: load main: C.etcbc4_ft_mother <- \n",
      "  5.44s DETAIL: load annox: F.etcbc4_db_monads [node] \n",
      "  5.44s DETAIL: load annox: F.etcbc4_db_oid [node] \n",
      "  5.44s DETAIL: load annox: F.etcbc4_db_otype [node] \n",
      "  5.44s DETAIL: load annox: F.etcbc4_ft_g_word [node] \n",
      "  5.44s DETAIL: load annox: F.etcbc4_ft_language [node] \n",
      "  5.44s DETAIL: load annox: F.etcbc4_ft_lex [node] \n",
      "  5.45s DETAIL: load annox: F.etcbc4_ft_lex_utf8 [node] \n",
      "  5.45s DETAIL: load annox: F.etcbc4_ft_ls [node] \n",
      "  5.45s DETAIL: load annox: F.etcbc4_ft_pdp [node] \n",
      "  5.45s DETAIL: load annox: F.etcbc4_ft_sp [node] \n",
      "  5.45s DETAIL: load annox: F.etcbc4_ft_vs [node] \n",
      "  5.45s DETAIL: load annox: F.etcbc4_lex_gloss [node] \n",
      "  5.67s DETAIL: load annox: F.etcbc4_lex_nametype [node] \n",
      "  5.75s DETAIL: load annox: F.etcbc4_sft_chapter [node] \n",
      "  5.77s DETAIL: load annox: F.etcbc4_sft_label [node] \n",
      "  5.77s DETAIL: load annox: F.etcbc4_sft_verse [node] \n",
      "  5.77s DETAIL: load annox: F.etcbc4_ft_mother [e] \n",
      "  5.77s DETAIL: load annox: C.etcbc4_ft_mother -> \n",
      "  5.77s DETAIL: load annox: C.etcbc4_ft_mother <- \n",
      "  5.77s LOGFILE=C:/Users/u0100999/laf-fabric-output/etcbc4b/workshop/__log__workshop.txt\n",
      "  5.77s INFO: LOADING PREPARED data: please wait ... \n",
      "  5.77s prep prep: G.node_sort\n",
      "  5.82s prep prep: G.node_sort_inv\n",
      "  6.25s prep prep: L.node_up\n",
      "  9.14s prep prep: L.node_down\n",
      "    14s prep prep: V.verses\n",
      "    15s prep prep: V.books_la\n",
      "    15s ETCBC reference: http://laf-fabric.readthedocs.org/en/latest/texts/ETCBC-reference.html\n",
      "    17s INFO: LOADED PREPARED data\n",
      "    17s INFO: DATA LOADED FROM SOURCE etcbc4b AND ANNOX lexicon FOR TASK workshop AT 2016-09-13T10-36-04\n"
     ]
    }
   ],
   "source": [
    "API=fabric.load(source+version, 'lexicon', 'workshop', {\n",
    "    \"xmlids\": {\"node\": False, \"edge\": False},\n",
    "    \"features\": ('''\n",
    "        sp vs label\n",
    "        oid otype monads\n",
    "        lex g_word lex_utf8\n",
    "        sp pdp nametype ls gloss language\n",
    "        chapter verse\n",
    "    ''','mother'),\n",
    "    \"prepare\": prepare,\n",
    "    \"primary\": False,\n",
    "}, verbose='DETAIL')\n",
    "exec(fabric.localnames.format(var='fabric'))"
   ]
  },
  {
   "cell_type": "code",
   "execution_count": 4,
   "metadata": {
    "collapsed": false
   },
   "outputs": [
    {
     "name": "stdout",
     "output_type": "stream",
     "text": [
      "{499588, 456965, 496519, 469002, 460298, 463882, 506378, 478475, 450959, 507791, 511887, 501269, 467350, 496539, 473756, 428448, 471842, 461475, 458276, 506405, 476324, 433445, 465830, 460458, 428203, 472490, 439598, 499503, 454705, 471857, 470449, 470837, 496952, 471870, 481984, 496965, 452173, 457294, 450893, 452566, 488411, 499809, 432865, 464226, 498145, 507873, 513640, 506475, 446315, 471532, 452591, 446576, 455026, 464125}\n"
     ]
    }
   ],
   "source": [
    "b_prep = set()\n",
    "hzq = []\n",
    "hzq_hiph = set()\n",
    "\n",
    "for n in NN():\n",
    "    if F.otype.v(n) == 'word':\n",
    "        if F.lex.v(n) == 'B':\n",
    "            b_prep.add(L.u('clause', n))\n",
    "        if F.lex.v(n) == 'XZQ[' and F.vs.v(n) == 'hif':\n",
    "            hzq_hiph.add(L.u('clause', n))\n",
    "            \n",
    "result = b_prep.intersection(hzq_hiph)\n",
    "\n",
    "print(result)"
   ]
  },
  {
   "cell_type": "code",
   "execution_count": null,
   "metadata": {
    "collapsed": true
   },
   "outputs": [],
   "source": []
  }
 ],
 "metadata": {
  "anaconda-cloud": {},
  "kernelspec": {
   "display_name": "Python [default]",
   "language": "python",
   "name": "python3"
  },
  "language_info": {
   "codemirror_mode": {
    "name": "ipython",
    "version": 3
   },
   "file_extension": ".py",
   "mimetype": "text/x-python",
   "name": "python",
   "nbconvert_exporter": "python",
   "pygments_lexer": "ipython3",
   "version": "3.5.2"
  }
 },
 "nbformat": 4,
 "nbformat_minor": 1
}
